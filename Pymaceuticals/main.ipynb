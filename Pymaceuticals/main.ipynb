{
 "cells": [
  {
   "cell_type": "markdown",
   "metadata": {},
   "source": [
    "## Observations and Insights "
   ]
  },
  {
   "cell_type": "markdown",
   "metadata": {},
   "source": []
  },
  {
   "cell_type": "markdown",
   "metadata": {},
   "source": [
    "Three observations or inferences:\n",
    "1. Capomulin and Ramicane are about equally effective at shrinking tumor growth. The median tumor size at the end of the experiment was 36.56165229mm3 for mice treated with Capomulin and 38.1251644mm3 for mice treated with Ramicane. \n",
    "2. Two other treatments, Infubinol and Ceftamin, were much less effective at shrinking tumors, with median tumor sizes of 60.16518046mm3 and 59.85195552mm3, respectively, at the end of the experiment.\n",
    "3. The outlier data point in the mice treated with Infubinol is from a mouse who was only measured at timepoints 0 and 5."
   ]
  },
  {
   "cell_type": "code",
   "execution_count": 59,
   "metadata": {},
   "outputs": [
    {
     "data": {
      "text/html": [
       "<div>\n",
       "<style scoped>\n",
       "    .dataframe tbody tr th:only-of-type {\n",
       "        vertical-align: middle;\n",
       "    }\n",
       "\n",
       "    .dataframe tbody tr th {\n",
       "        vertical-align: top;\n",
       "    }\n",
       "\n",
       "    .dataframe thead th {\n",
       "        text-align: right;\n",
       "    }\n",
       "</style>\n",
       "<table border=\"1\" class=\"dataframe\">\n",
       "  <thead>\n",
       "    <tr style=\"text-align: right;\">\n",
       "      <th></th>\n",
       "      <th>Mouse ID</th>\n",
       "      <th>Drug Regimen</th>\n",
       "      <th>Sex</th>\n",
       "      <th>Age_months</th>\n",
       "      <th>Weight (g)</th>\n",
       "      <th>Timepoint</th>\n",
       "      <th>Tumor Volume (mm3)</th>\n",
       "      <th>Metastatic Sites</th>\n",
       "    </tr>\n",
       "  </thead>\n",
       "  <tbody>\n",
       "    <tr>\n",
       "      <th>0</th>\n",
       "      <td>k403</td>\n",
       "      <td>Ramicane</td>\n",
       "      <td>Male</td>\n",
       "      <td>21</td>\n",
       "      <td>16</td>\n",
       "      <td>0</td>\n",
       "      <td>45.000000</td>\n",
       "      <td>0</td>\n",
       "    </tr>\n",
       "    <tr>\n",
       "      <th>1</th>\n",
       "      <td>k403</td>\n",
       "      <td>Ramicane</td>\n",
       "      <td>Male</td>\n",
       "      <td>21</td>\n",
       "      <td>16</td>\n",
       "      <td>5</td>\n",
       "      <td>38.825898</td>\n",
       "      <td>0</td>\n",
       "    </tr>\n",
       "    <tr>\n",
       "      <th>2</th>\n",
       "      <td>k403</td>\n",
       "      <td>Ramicane</td>\n",
       "      <td>Male</td>\n",
       "      <td>21</td>\n",
       "      <td>16</td>\n",
       "      <td>10</td>\n",
       "      <td>35.014271</td>\n",
       "      <td>1</td>\n",
       "    </tr>\n",
       "    <tr>\n",
       "      <th>3</th>\n",
       "      <td>k403</td>\n",
       "      <td>Ramicane</td>\n",
       "      <td>Male</td>\n",
       "      <td>21</td>\n",
       "      <td>16</td>\n",
       "      <td>15</td>\n",
       "      <td>34.223992</td>\n",
       "      <td>1</td>\n",
       "    </tr>\n",
       "    <tr>\n",
       "      <th>4</th>\n",
       "      <td>k403</td>\n",
       "      <td>Ramicane</td>\n",
       "      <td>Male</td>\n",
       "      <td>21</td>\n",
       "      <td>16</td>\n",
       "      <td>20</td>\n",
       "      <td>32.997729</td>\n",
       "      <td>1</td>\n",
       "    </tr>\n",
       "    <tr>\n",
       "      <th>5</th>\n",
       "      <td>k403</td>\n",
       "      <td>Ramicane</td>\n",
       "      <td>Male</td>\n",
       "      <td>21</td>\n",
       "      <td>16</td>\n",
       "      <td>25</td>\n",
       "      <td>33.464577</td>\n",
       "      <td>1</td>\n",
       "    </tr>\n",
       "    <tr>\n",
       "      <th>6</th>\n",
       "      <td>k403</td>\n",
       "      <td>Ramicane</td>\n",
       "      <td>Male</td>\n",
       "      <td>21</td>\n",
       "      <td>16</td>\n",
       "      <td>30</td>\n",
       "      <td>31.099498</td>\n",
       "      <td>1</td>\n",
       "    </tr>\n",
       "    <tr>\n",
       "      <th>7</th>\n",
       "      <td>k403</td>\n",
       "      <td>Ramicane</td>\n",
       "      <td>Male</td>\n",
       "      <td>21</td>\n",
       "      <td>16</td>\n",
       "      <td>35</td>\n",
       "      <td>26.546993</td>\n",
       "      <td>1</td>\n",
       "    </tr>\n",
       "    <tr>\n",
       "      <th>8</th>\n",
       "      <td>k403</td>\n",
       "      <td>Ramicane</td>\n",
       "      <td>Male</td>\n",
       "      <td>21</td>\n",
       "      <td>16</td>\n",
       "      <td>40</td>\n",
       "      <td>24.365505</td>\n",
       "      <td>1</td>\n",
       "    </tr>\n",
       "    <tr>\n",
       "      <th>9</th>\n",
       "      <td>k403</td>\n",
       "      <td>Ramicane</td>\n",
       "      <td>Male</td>\n",
       "      <td>21</td>\n",
       "      <td>16</td>\n",
       "      <td>45</td>\n",
       "      <td>22.050126</td>\n",
       "      <td>1</td>\n",
       "    </tr>\n",
       "  </tbody>\n",
       "</table>\n",
       "</div>"
      ],
      "text/plain": [
       "  Mouse ID Drug Regimen   Sex  Age_months  Weight (g)  Timepoint  \\\n",
       "0     k403     Ramicane  Male          21          16          0   \n",
       "1     k403     Ramicane  Male          21          16          5   \n",
       "2     k403     Ramicane  Male          21          16         10   \n",
       "3     k403     Ramicane  Male          21          16         15   \n",
       "4     k403     Ramicane  Male          21          16         20   \n",
       "5     k403     Ramicane  Male          21          16         25   \n",
       "6     k403     Ramicane  Male          21          16         30   \n",
       "7     k403     Ramicane  Male          21          16         35   \n",
       "8     k403     Ramicane  Male          21          16         40   \n",
       "9     k403     Ramicane  Male          21          16         45   \n",
       "\n",
       "   Tumor Volume (mm3)  Metastatic Sites  \n",
       "0           45.000000                 0  \n",
       "1           38.825898                 0  \n",
       "2           35.014271                 1  \n",
       "3           34.223992                 1  \n",
       "4           32.997729                 1  \n",
       "5           33.464577                 1  \n",
       "6           31.099498                 1  \n",
       "7           26.546993                 1  \n",
       "8           24.365505                 1  \n",
       "9           22.050126                 1  "
      ]
     },
     "execution_count": 59,
     "metadata": {},
     "output_type": "execute_result"
    }
   ],
   "source": [
    "# Dependencies and Setup\n",
    "import matplotlib.pyplot as plt\n",
    "import pandas as pd\n",
    "import scipy.stats as st\n",
    "import numpy as np\n",
    "from scipy.stats import linregress\n",
    "\n",
    "# Study data files\n",
    "mouse_metadata_path = \"data/Mouse_metadata.csv\"\n",
    "study_results_path = \"data/Study_results.csv\"\n",
    "\n",
    "# Read the mouse data and the study results\n",
    "mouse_metadata = pd.read_csv(mouse_metadata_path)\n",
    "study_results = pd.read_csv(study_results_path)\n",
    "\n",
    "# Combine the data into a single dataset\n",
    "mouse_study_df = pd.merge(mouse_metadata, study_results, on=\"Mouse ID\", how=\"outer\")\n",
    "\n",
    "# Display the data table for preview\n",
    "mouse_study_df.head(10)"
   ]
  },
  {
   "cell_type": "code",
   "execution_count": 2,
   "metadata": {},
   "outputs": [
    {
     "data": {
      "text/plain": [
       "249"
      ]
     },
     "execution_count": 2,
     "metadata": {},
     "output_type": "execute_result"
    }
   ],
   "source": [
    "# Checking the number of mice.\n",
    "mouse_number = len(mouse_study_df[\"Mouse ID\"].unique())\n",
    "mouse_number"
   ]
  },
  {
   "cell_type": "code",
   "execution_count": 202,
   "metadata": {},
   "outputs": [],
   "source": [
    "# Getting the duplicate mice by ID number that shows up for Mouse ID and Timepoint. \n",
    "\n",
    "#all instances of duplicated data will be True in new Dupes column\n",
    "mouse_study_df['Duplicate'] = mouse_study_df.duplicated(subset=['Mouse ID', 'Timepoint'], keep=False) \n",
    "\n",
    "#return Mouse ID for any row that is true, store in variable dupe_mouse\n",
    "dupe_mouse_series = mouse_study_df.loc[mouse_study_df[\"Duplicate\"] == True, \"Mouse ID\"]\n",
    "dupe_mouse = dupe_mouse_series.iloc[1]"
   ]
  },
  {
   "cell_type": "code",
   "execution_count": 203,
   "metadata": {},
   "outputs": [],
   "source": [
    "# Optional: Get all the data for the duplicate mouse ID. \n",
    "dupe_data = mouse_study_df.loc[mouse_study_df['Mouse ID'] == dupe_mouse, :].copy()"
   ]
  },
  {
   "cell_type": "code",
   "execution_count": 204,
   "metadata": {},
   "outputs": [],
   "source": [
    "# Create a clean DataFrame by dropping the duplicate mouse by its ID.\n",
    "mouse_study_nodupes_df = mouse_study_df.loc[mouse_study_df['Mouse ID'] != dupe_mouse, :].copy()"
   ]
  },
  {
   "cell_type": "code",
   "execution_count": 205,
   "metadata": {},
   "outputs": [
    {
     "data": {
      "text/plain": [
       "248"
      ]
     },
     "execution_count": 205,
     "metadata": {},
     "output_type": "execute_result"
    }
   ],
   "source": [
    "# Checking the number of mice in the clean DataFrame.\n",
    "mouse2_number = len(mouse_study_nodupes_df[\"Mouse ID\"].unique())\n",
    "mouse2_number"
   ]
  },
  {
   "cell_type": "markdown",
   "metadata": {},
   "source": [
    "## Summary Statistics"
   ]
  },
  {
   "cell_type": "code",
   "execution_count": 7,
   "metadata": {},
   "outputs": [
    {
     "data": {
      "text/html": [
       "<div>\n",
       "<style scoped>\n",
       "    .dataframe tbody tr th:only-of-type {\n",
       "        vertical-align: middle;\n",
       "    }\n",
       "\n",
       "    .dataframe tbody tr th {\n",
       "        vertical-align: top;\n",
       "    }\n",
       "\n",
       "    .dataframe thead th {\n",
       "        text-align: right;\n",
       "    }\n",
       "</style>\n",
       "<table border=\"1\" class=\"dataframe\">\n",
       "  <thead>\n",
       "    <tr style=\"text-align: right;\">\n",
       "      <th></th>\n",
       "      <th>Mean Tumor Volume (mm3)</th>\n",
       "      <th>Median Tumor Volume (mm3)</th>\n",
       "      <th>Standard Deviation</th>\n",
       "      <th>Variation</th>\n",
       "      <th>SEM</th>\n",
       "    </tr>\n",
       "    <tr>\n",
       "      <th>Drug Regimen</th>\n",
       "      <th></th>\n",
       "      <th></th>\n",
       "      <th></th>\n",
       "      <th></th>\n",
       "      <th></th>\n",
       "    </tr>\n",
       "  </thead>\n",
       "  <tbody>\n",
       "    <tr>\n",
       "      <th>Capomulin</th>\n",
       "      <td>40.675741</td>\n",
       "      <td>41.557809</td>\n",
       "      <td>4.994774</td>\n",
       "      <td>24.947764</td>\n",
       "      <td>0.329346</td>\n",
       "    </tr>\n",
       "    <tr>\n",
       "      <th>Ceftamin</th>\n",
       "      <td>52.591172</td>\n",
       "      <td>51.776157</td>\n",
       "      <td>6.268188</td>\n",
       "      <td>39.290177</td>\n",
       "      <td>0.469821</td>\n",
       "    </tr>\n",
       "    <tr>\n",
       "      <th>Infubinol</th>\n",
       "      <td>52.884795</td>\n",
       "      <td>51.820584</td>\n",
       "      <td>6.567243</td>\n",
       "      <td>43.128684</td>\n",
       "      <td>0.492236</td>\n",
       "    </tr>\n",
       "    <tr>\n",
       "      <th>Ketapril</th>\n",
       "      <td>55.235638</td>\n",
       "      <td>53.698743</td>\n",
       "      <td>8.279709</td>\n",
       "      <td>68.553577</td>\n",
       "      <td>0.603860</td>\n",
       "    </tr>\n",
       "    <tr>\n",
       "      <th>Naftisol</th>\n",
       "      <td>54.331565</td>\n",
       "      <td>52.509285</td>\n",
       "      <td>8.134708</td>\n",
       "      <td>66.173479</td>\n",
       "      <td>0.596466</td>\n",
       "    </tr>\n",
       "    <tr>\n",
       "      <th>Placebo</th>\n",
       "      <td>54.033581</td>\n",
       "      <td>52.288934</td>\n",
       "      <td>7.821003</td>\n",
       "      <td>61.168083</td>\n",
       "      <td>0.581331</td>\n",
       "    </tr>\n",
       "    <tr>\n",
       "      <th>Propriva</th>\n",
       "      <td>52.320930</td>\n",
       "      <td>50.446266</td>\n",
       "      <td>6.622085</td>\n",
       "      <td>43.852013</td>\n",
       "      <td>0.544332</td>\n",
       "    </tr>\n",
       "    <tr>\n",
       "      <th>Ramicane</th>\n",
       "      <td>40.216745</td>\n",
       "      <td>40.673236</td>\n",
       "      <td>4.846308</td>\n",
       "      <td>23.486704</td>\n",
       "      <td>0.320955</td>\n",
       "    </tr>\n",
       "    <tr>\n",
       "      <th>Stelasyn</th>\n",
       "      <td>54.233149</td>\n",
       "      <td>52.431737</td>\n",
       "      <td>7.710419</td>\n",
       "      <td>59.450562</td>\n",
       "      <td>0.573111</td>\n",
       "    </tr>\n",
       "    <tr>\n",
       "      <th>Zoniferol</th>\n",
       "      <td>53.236507</td>\n",
       "      <td>51.818479</td>\n",
       "      <td>6.966589</td>\n",
       "      <td>48.533355</td>\n",
       "      <td>0.516398</td>\n",
       "    </tr>\n",
       "  </tbody>\n",
       "</table>\n",
       "</div>"
      ],
      "text/plain": [
       "              Mean Tumor Volume (mm3)  Median Tumor Volume (mm3)  \\\n",
       "Drug Regimen                                                       \n",
       "Capomulin                   40.675741                  41.557809   \n",
       "Ceftamin                    52.591172                  51.776157   \n",
       "Infubinol                   52.884795                  51.820584   \n",
       "Ketapril                    55.235638                  53.698743   \n",
       "Naftisol                    54.331565                  52.509285   \n",
       "Placebo                     54.033581                  52.288934   \n",
       "Propriva                    52.320930                  50.446266   \n",
       "Ramicane                    40.216745                  40.673236   \n",
       "Stelasyn                    54.233149                  52.431737   \n",
       "Zoniferol                   53.236507                  51.818479   \n",
       "\n",
       "              Standard Deviation  Variation       SEM  \n",
       "Drug Regimen                                           \n",
       "Capomulin               4.994774  24.947764  0.329346  \n",
       "Ceftamin                6.268188  39.290177  0.469821  \n",
       "Infubinol               6.567243  43.128684  0.492236  \n",
       "Ketapril                8.279709  68.553577  0.603860  \n",
       "Naftisol                8.134708  66.173479  0.596466  \n",
       "Placebo                 7.821003  61.168083  0.581331  \n",
       "Propriva                6.622085  43.852013  0.544332  \n",
       "Ramicane                4.846308  23.486704  0.320955  \n",
       "Stelasyn                7.710419  59.450562  0.573111  \n",
       "Zoniferol               6.966589  48.533355  0.516398  "
      ]
     },
     "execution_count": 7,
     "metadata": {},
     "output_type": "execute_result"
    }
   ],
   "source": [
    "# Generate a summary statistics table of mean, median, variance, standard deviation, and SEM of the tumor volume \n",
    "#for each regimen\n",
    "# Use groupby and summary statistical methods to calculate the following properties of each drug regimen: \n",
    "# mean, median, variance, standard deviation, and SEM of the tumor volume. \n",
    "# Assemble the resulting series into a single summary dataframe.\n",
    "\n",
    "regimen_summary_group = mouse_study_nodupes_df.groupby([\"Drug Regimen\"])\n",
    "\n",
    "tumor_mean = regimen_summary_group[\"Tumor Volume (mm3)\"].mean()\n",
    "tumor_median = regimen_summary_group[\"Tumor Volume (mm3)\"].median()\n",
    "tumor_std = regimen_summary_group[\"Tumor Volume (mm3)\"].std()\n",
    "tumor_var = regimen_summary_group[\"Tumor Volume (mm3)\"].var()\n",
    "tumor_sem = regimen_summary_group[\"Tumor Volume (mm3)\"].sem()\n",
    "\n",
    "regimen_summary_longway = pd.DataFrame(\n",
    "    {\"Mean Tumor Volume (mm3)\": tumor_mean,\n",
    "     \"Median Tumor Volume (mm3)\": tumor_median, \n",
    "     \"Standard Deviation\": tumor_std, \n",
    "     \"Variation\": tumor_var, \n",
    "     \"SEM\": tumor_sem   \n",
    "    }\n",
    ")\n",
    "\n",
    "regimen_summary_longway"
   ]
  },
  {
   "cell_type": "code",
   "execution_count": 8,
   "metadata": {},
   "outputs": [
    {
     "data": {
      "text/html": [
       "<div>\n",
       "<style scoped>\n",
       "    .dataframe tbody tr th:only-of-type {\n",
       "        vertical-align: middle;\n",
       "    }\n",
       "\n",
       "    .dataframe tbody tr th {\n",
       "        vertical-align: top;\n",
       "    }\n",
       "\n",
       "    .dataframe thead tr th {\n",
       "        text-align: left;\n",
       "    }\n",
       "\n",
       "    .dataframe thead tr:last-of-type th {\n",
       "        text-align: right;\n",
       "    }\n",
       "</style>\n",
       "<table border=\"1\" class=\"dataframe\">\n",
       "  <thead>\n",
       "    <tr>\n",
       "      <th></th>\n",
       "      <th colspan=\"5\" halign=\"left\">Tumor Volume (mm3)</th>\n",
       "    </tr>\n",
       "    <tr>\n",
       "      <th></th>\n",
       "      <th>mean</th>\n",
       "      <th>median</th>\n",
       "      <th>std</th>\n",
       "      <th>var</th>\n",
       "      <th>sem</th>\n",
       "    </tr>\n",
       "    <tr>\n",
       "      <th>Drug Regimen</th>\n",
       "      <th></th>\n",
       "      <th></th>\n",
       "      <th></th>\n",
       "      <th></th>\n",
       "      <th></th>\n",
       "    </tr>\n",
       "  </thead>\n",
       "  <tbody>\n",
       "    <tr>\n",
       "      <th>Capomulin</th>\n",
       "      <td>40.675741</td>\n",
       "      <td>41.557809</td>\n",
       "      <td>4.994774</td>\n",
       "      <td>24.947764</td>\n",
       "      <td>0.329346</td>\n",
       "    </tr>\n",
       "    <tr>\n",
       "      <th>Ceftamin</th>\n",
       "      <td>52.591172</td>\n",
       "      <td>51.776157</td>\n",
       "      <td>6.268188</td>\n",
       "      <td>39.290177</td>\n",
       "      <td>0.469821</td>\n",
       "    </tr>\n",
       "    <tr>\n",
       "      <th>Infubinol</th>\n",
       "      <td>52.884795</td>\n",
       "      <td>51.820584</td>\n",
       "      <td>6.567243</td>\n",
       "      <td>43.128684</td>\n",
       "      <td>0.492236</td>\n",
       "    </tr>\n",
       "    <tr>\n",
       "      <th>Ketapril</th>\n",
       "      <td>55.235638</td>\n",
       "      <td>53.698743</td>\n",
       "      <td>8.279709</td>\n",
       "      <td>68.553577</td>\n",
       "      <td>0.603860</td>\n",
       "    </tr>\n",
       "    <tr>\n",
       "      <th>Naftisol</th>\n",
       "      <td>54.331565</td>\n",
       "      <td>52.509285</td>\n",
       "      <td>8.134708</td>\n",
       "      <td>66.173479</td>\n",
       "      <td>0.596466</td>\n",
       "    </tr>\n",
       "    <tr>\n",
       "      <th>Placebo</th>\n",
       "      <td>54.033581</td>\n",
       "      <td>52.288934</td>\n",
       "      <td>7.821003</td>\n",
       "      <td>61.168083</td>\n",
       "      <td>0.581331</td>\n",
       "    </tr>\n",
       "    <tr>\n",
       "      <th>Propriva</th>\n",
       "      <td>52.320930</td>\n",
       "      <td>50.446266</td>\n",
       "      <td>6.622085</td>\n",
       "      <td>43.852013</td>\n",
       "      <td>0.544332</td>\n",
       "    </tr>\n",
       "    <tr>\n",
       "      <th>Ramicane</th>\n",
       "      <td>40.216745</td>\n",
       "      <td>40.673236</td>\n",
       "      <td>4.846308</td>\n",
       "      <td>23.486704</td>\n",
       "      <td>0.320955</td>\n",
       "    </tr>\n",
       "    <tr>\n",
       "      <th>Stelasyn</th>\n",
       "      <td>54.233149</td>\n",
       "      <td>52.431737</td>\n",
       "      <td>7.710419</td>\n",
       "      <td>59.450562</td>\n",
       "      <td>0.573111</td>\n",
       "    </tr>\n",
       "    <tr>\n",
       "      <th>Zoniferol</th>\n",
       "      <td>53.236507</td>\n",
       "      <td>51.818479</td>\n",
       "      <td>6.966589</td>\n",
       "      <td>48.533355</td>\n",
       "      <td>0.516398</td>\n",
       "    </tr>\n",
       "  </tbody>\n",
       "</table>\n",
       "</div>"
      ],
      "text/plain": [
       "             Tumor Volume (mm3)                                          \n",
       "                           mean     median       std        var       sem\n",
       "Drug Regimen                                                             \n",
       "Capomulin             40.675741  41.557809  4.994774  24.947764  0.329346\n",
       "Ceftamin              52.591172  51.776157  6.268188  39.290177  0.469821\n",
       "Infubinol             52.884795  51.820584  6.567243  43.128684  0.492236\n",
       "Ketapril              55.235638  53.698743  8.279709  68.553577  0.603860\n",
       "Naftisol              54.331565  52.509285  8.134708  66.173479  0.596466\n",
       "Placebo               54.033581  52.288934  7.821003  61.168083  0.581331\n",
       "Propriva              52.320930  50.446266  6.622085  43.852013  0.544332\n",
       "Ramicane              40.216745  40.673236  4.846308  23.486704  0.320955\n",
       "Stelasyn              54.233149  52.431737  7.710419  59.450562  0.573111\n",
       "Zoniferol             53.236507  51.818479  6.966589  48.533355  0.516398"
      ]
     },
     "execution_count": 8,
     "metadata": {},
     "output_type": "execute_result"
    }
   ],
   "source": [
    "# Generate a summary statistics table of mean, median, variance, standard deviation, and SEM of the tumor volume \n",
    "#for each regimen\n",
    "# Using the aggregation method, produce the same summary statistics in a single line\n",
    "regimen_summary_agg = mouse_study_nodupes_df.groupby([\"Drug Regimen\"]).agg(\n",
    "    {\"Tumor Volume (mm3)\": [\"mean\", 'median', 'std', 'var', 'sem']}\n",
    "                            )\n",
    "regimen_summary_agg  "
   ]
  },
  {
   "cell_type": "markdown",
   "metadata": {},
   "source": [
    "## Bar and Pie Charts"
   ]
  },
  {
   "cell_type": "code",
   "execution_count": 9,
   "metadata": {},
   "outputs": [
    {
     "data": {
      "text/plain": [
       "<AxesSubplot:title={'center':'Number of timepoints per drug regimen'}, xlabel='Drug Regimen', ylabel='Number'>"
      ]
     },
     "execution_count": 9,
     "metadata": {},
     "output_type": "execute_result"
    },
    {
     "data": {
      "image/png": "[encoded data removed]",
      "text/plain": [
       "<Figure size 432x288 with 1 Axes>"
      ]
     },
     "metadata": {
      "needs_background": "light"
     },
     "output_type": "display_data"
    }
   ],
   "source": [
    "# Generate a bar plot showing the total number of timepoints for all mice tested for each drug regimen using Pandas.\n",
    "timepoint = regimen_summary_group[\"Tumor Volume (mm3)\"].count()\n",
    "timepoint.plot(kind = \"bar\", title=\"Number of timepoints per drug regimen\", ylabel=\"Number\")"
   ]
  },
  {
   "cell_type": "code",
   "execution_count": 10,
   "metadata": {},
   "outputs": [
    {
     "data": {
      "text/plain": [
       "Text(0.5, 1.0, 'Number of timepoints per drug regimen')"
      ]
     },
     "execution_count": 10,
     "metadata": {},
     "output_type": "execute_result"
    },
    {
     "data": {
      "image/png": "[encoded data removed]",
      "text/plain": [
       "<Figure size 432x288 with 1 Axes>"
      ]
     },
     "metadata": {
      "needs_background": "light"
     },
     "output_type": "display_data"
    }
   ],
   "source": [
    "# Generate a bar plot showing the total number of timepoints for all mice tested for each drug regimen using pyplot.\n",
    "plt.bar(timepoint.index,timepoint, width = 0.5)\n",
    "plt.xlabel(\"Drug Regimen\")\n",
    "plt.xticks(rotation=\"vertical\")\n",
    "plt.ylabel(\"Number\")\n",
    "plt.title(\"Number of timepoints per drug regimen\")"
   ]
  },
  {
   "cell_type": "code",
   "execution_count": 60,
   "metadata": {},
   "outputs": [
    {
     "data": {
      "text/plain": [
       "<AxesSubplot:title={'center':'Sex of Mice'}>"
      ]
     },
     "execution_count": 60,
     "metadata": {},
     "output_type": "execute_result"
    },
    {
     "data": {
      "image/png": "[encoded data removed]",
      "text/plain": [
       "<Figure size 432x288 with 1 Axes>"
      ]
     },
     "metadata": {},
     "output_type": "display_data"
    }
   ],
   "source": [
    "# Generate a pie plot showing the distribution of female versus male mice using Pandas\n",
    "mouse_sex=mouse_study_nodupes_df[\"Sex\"].value_counts()\n",
    "mouse_sex.plot(kind=\"pie\", title=\"Sex of Mice\", autopct=\"%1.1f%%\", ylabel=\"\")"
   ]
  },
  {
   "cell_type": "code",
   "execution_count": 12,
   "metadata": {},
   "outputs": [
    {
     "data": {
      "text/plain": [
       "Text(0.5, 1.0, 'Sex of Mice')"
      ]
     },
     "execution_count": 12,
     "metadata": {},
     "output_type": "execute_result"
    },
    {
     "data": {
      "image/png": "[encoded data removed]",
      "text/plain": [
       "<Figure size 432x288 with 1 Axes>"
      ]
     },
     "metadata": {},
     "output_type": "display_data"
    }
   ],
   "source": [
    "# Generate a pie plot showing the distribution of female versus male mice using pyplot\n",
    "plt.pie(mouse_sex, labels=[\"Male\", \"Female\"], autopct=\"%1.1f%%\")\n",
    "plt.title(\"Sex of Mice\")"
   ]
  },
  {
   "cell_type": "markdown",
   "metadata": {},
   "source": [
    "## Quartiles, Outliers and Boxplots"
   ]
  },
  {
   "cell_type": "code",
   "execution_count": 13,
   "metadata": {},
   "outputs": [],
   "source": [
    "# Calculate the final tumor volume of each mouse across four of the treatment regimens: \n",
    "# Capomulin, Ramicane, Infubinol, and Ceftamin"
   ]
  },
  {
   "cell_type": "code",
   "execution_count": 14,
   "metadata": {},
   "outputs": [],
   "source": [
    "# Start by getting the last (greatest) timepoint for each mouse\n",
    "max_timepoint = mouse_study_nodupes_df.groupby([\"Mouse ID\"]).max()"
   ]
  },
  {
   "cell_type": "code",
   "execution_count": 63,
   "metadata": {},
   "outputs": [
    {
     "data": {
      "text/html": [
       "<div>\n",
       "<style scoped>\n",
       "    .dataframe tbody tr th:only-of-type {\n",
       "        vertical-align: middle;\n",
       "    }\n",
       "\n",
       "    .dataframe tbody tr th {\n",
       "        vertical-align: top;\n",
       "    }\n",
       "\n",
       "    .dataframe thead th {\n",
       "        text-align: right;\n",
       "    }\n",
       "</style>\n",
       "<table border=\"1\" class=\"dataframe\">\n",
       "  <thead>\n",
       "    <tr style=\"text-align: right;\">\n",
       "      <th></th>\n",
       "      <th>Mouse ID</th>\n",
       "      <th>Drug Regimen_x</th>\n",
       "      <th>Sex_x</th>\n",
       "      <th>Age_months_x</th>\n",
       "      <th>Weight (g)_x</th>\n",
       "      <th>Timepoint_x</th>\n",
       "      <th>Tumor Volume (mm3)_x</th>\n",
       "      <th>Metastatic Sites_x</th>\n",
       "      <th>Duplicate_x</th>\n",
       "      <th>Drug Regimen_y</th>\n",
       "      <th>Sex_y</th>\n",
       "      <th>Age_months_y</th>\n",
       "      <th>Weight (g)_y</th>\n",
       "      <th>Timepoint_y</th>\n",
       "      <th>Tumor Volume (mm3)_y</th>\n",
       "      <th>Metastatic Sites_y</th>\n",
       "      <th>Duplicate_y</th>\n",
       "    </tr>\n",
       "  </thead>\n",
       "  <tbody>\n",
       "    <tr>\n",
       "      <th>0</th>\n",
       "      <td>k403</td>\n",
       "      <td>Ramicane</td>\n",
       "      <td>Male</td>\n",
       "      <td>21</td>\n",
       "      <td>16</td>\n",
       "      <td>0</td>\n",
       "      <td>45.000000</td>\n",
       "      <td>0</td>\n",
       "      <td>False</td>\n",
       "      <td>Ramicane</td>\n",
       "      <td>Male</td>\n",
       "      <td>21</td>\n",
       "      <td>16</td>\n",
       "      <td>45</td>\n",
       "      <td>45.000000</td>\n",
       "      <td>1</td>\n",
       "      <td>False</td>\n",
       "    </tr>\n",
       "    <tr>\n",
       "      <th>1</th>\n",
       "      <td>k403</td>\n",
       "      <td>Ramicane</td>\n",
       "      <td>Male</td>\n",
       "      <td>21</td>\n",
       "      <td>16</td>\n",
       "      <td>5</td>\n",
       "      <td>38.825898</td>\n",
       "      <td>0</td>\n",
       "      <td>False</td>\n",
       "      <td>Ramicane</td>\n",
       "      <td>Male</td>\n",
       "      <td>21</td>\n",
       "      <td>16</td>\n",
       "      <td>45</td>\n",
       "      <td>45.000000</td>\n",
       "      <td>1</td>\n",
       "      <td>False</td>\n",
       "    </tr>\n",
       "    <tr>\n",
       "      <th>2</th>\n",
       "      <td>k403</td>\n",
       "      <td>Ramicane</td>\n",
       "      <td>Male</td>\n",
       "      <td>21</td>\n",
       "      <td>16</td>\n",
       "      <td>10</td>\n",
       "      <td>35.014271</td>\n",
       "      <td>1</td>\n",
       "      <td>False</td>\n",
       "      <td>Ramicane</td>\n",
       "      <td>Male</td>\n",
       "      <td>21</td>\n",
       "      <td>16</td>\n",
       "      <td>45</td>\n",
       "      <td>45.000000</td>\n",
       "      <td>1</td>\n",
       "      <td>False</td>\n",
       "    </tr>\n",
       "    <tr>\n",
       "      <th>3</th>\n",
       "      <td>k403</td>\n",
       "      <td>Ramicane</td>\n",
       "      <td>Male</td>\n",
       "      <td>21</td>\n",
       "      <td>16</td>\n",
       "      <td>15</td>\n",
       "      <td>34.223992</td>\n",
       "      <td>1</td>\n",
       "      <td>False</td>\n",
       "      <td>Ramicane</td>\n",
       "      <td>Male</td>\n",
       "      <td>21</td>\n",
       "      <td>16</td>\n",
       "      <td>45</td>\n",
       "      <td>45.000000</td>\n",
       "      <td>1</td>\n",
       "      <td>False</td>\n",
       "    </tr>\n",
       "    <tr>\n",
       "      <th>4</th>\n",
       "      <td>k403</td>\n",
       "      <td>Ramicane</td>\n",
       "      <td>Male</td>\n",
       "      <td>21</td>\n",
       "      <td>16</td>\n",
       "      <td>20</td>\n",
       "      <td>32.997729</td>\n",
       "      <td>1</td>\n",
       "      <td>False</td>\n",
       "      <td>Ramicane</td>\n",
       "      <td>Male</td>\n",
       "      <td>21</td>\n",
       "      <td>16</td>\n",
       "      <td>45</td>\n",
       "      <td>45.000000</td>\n",
       "      <td>1</td>\n",
       "      <td>False</td>\n",
       "    </tr>\n",
       "    <tr>\n",
       "      <th>...</th>\n",
       "      <td>...</td>\n",
       "      <td>...</td>\n",
       "      <td>...</td>\n",
       "      <td>...</td>\n",
       "      <td>...</td>\n",
       "      <td>...</td>\n",
       "      <td>...</td>\n",
       "      <td>...</td>\n",
       "      <td>...</td>\n",
       "      <td>...</td>\n",
       "      <td>...</td>\n",
       "      <td>...</td>\n",
       "      <td>...</td>\n",
       "      <td>...</td>\n",
       "      <td>...</td>\n",
       "      <td>...</td>\n",
       "      <td>...</td>\n",
       "    </tr>\n",
       "    <tr>\n",
       "      <th>1875</th>\n",
       "      <td>z969</td>\n",
       "      <td>Naftisol</td>\n",
       "      <td>Male</td>\n",
       "      <td>9</td>\n",
       "      <td>30</td>\n",
       "      <td>25</td>\n",
       "      <td>63.145652</td>\n",
       "      <td>2</td>\n",
       "      <td>False</td>\n",
       "      <td>Naftisol</td>\n",
       "      <td>Male</td>\n",
       "      <td>9</td>\n",
       "      <td>30</td>\n",
       "      <td>45</td>\n",
       "      <td>73.867845</td>\n",
       "      <td>4</td>\n",
       "      <td>False</td>\n",
       "    </tr>\n",
       "    <tr>\n",
       "      <th>1876</th>\n",
       "      <td>z969</td>\n",
       "      <td>Naftisol</td>\n",
       "      <td>Male</td>\n",
       "      <td>9</td>\n",
       "      <td>30</td>\n",
       "      <td>30</td>\n",
       "      <td>65.841013</td>\n",
       "      <td>3</td>\n",
       "      <td>False</td>\n",
       "      <td>Naftisol</td>\n",
       "      <td>Male</td>\n",
       "      <td>9</td>\n",
       "      <td>30</td>\n",
       "      <td>45</td>\n",
       "      <td>73.867845</td>\n",
       "      <td>4</td>\n",
       "      <td>False</td>\n",
       "    </tr>\n",
       "    <tr>\n",
       "      <th>1877</th>\n",
       "      <td>z969</td>\n",
       "      <td>Naftisol</td>\n",
       "      <td>Male</td>\n",
       "      <td>9</td>\n",
       "      <td>30</td>\n",
       "      <td>35</td>\n",
       "      <td>69.176246</td>\n",
       "      <td>4</td>\n",
       "      <td>False</td>\n",
       "      <td>Naftisol</td>\n",
       "      <td>Male</td>\n",
       "      <td>9</td>\n",
       "      <td>30</td>\n",
       "      <td>45</td>\n",
       "      <td>73.867845</td>\n",
       "      <td>4</td>\n",
       "      <td>False</td>\n",
       "    </tr>\n",
       "    <tr>\n",
       "      <th>1878</th>\n",
       "      <td>z969</td>\n",
       "      <td>Naftisol</td>\n",
       "      <td>Male</td>\n",
       "      <td>9</td>\n",
       "      <td>30</td>\n",
       "      <td>40</td>\n",
       "      <td>70.314904</td>\n",
       "      <td>4</td>\n",
       "      <td>False</td>\n",
       "      <td>Naftisol</td>\n",
       "      <td>Male</td>\n",
       "      <td>9</td>\n",
       "      <td>30</td>\n",
       "      <td>45</td>\n",
       "      <td>73.867845</td>\n",
       "      <td>4</td>\n",
       "      <td>False</td>\n",
       "    </tr>\n",
       "    <tr>\n",
       "      <th>1879</th>\n",
       "      <td>z969</td>\n",
       "      <td>Naftisol</td>\n",
       "      <td>Male</td>\n",
       "      <td>9</td>\n",
       "      <td>30</td>\n",
       "      <td>45</td>\n",
       "      <td>73.867845</td>\n",
       "      <td>4</td>\n",
       "      <td>False</td>\n",
       "      <td>Naftisol</td>\n",
       "      <td>Male</td>\n",
       "      <td>9</td>\n",
       "      <td>30</td>\n",
       "      <td>45</td>\n",
       "      <td>73.867845</td>\n",
       "      <td>4</td>\n",
       "      <td>False</td>\n",
       "    </tr>\n",
       "  </tbody>\n",
       "</table>\n",
       "<p>1880 rows × 17 columns</p>\n",
       "</div>"
      ],
      "text/plain": [
       "     Mouse ID Drug Regimen_x Sex_x  Age_months_x  Weight (g)_x  Timepoint_x  \\\n",
       "0        k403       Ramicane  Male            21            16            0   \n",
       "1        k403       Ramicane  Male            21            16            5   \n",
       "2        k403       Ramicane  Male            21            16           10   \n",
       "3        k403       Ramicane  Male            21            16           15   \n",
       "4        k403       Ramicane  Male            21            16           20   \n",
       "...       ...            ...   ...           ...           ...          ...   \n",
       "1875     z969       Naftisol  Male             9            30           25   \n",
       "1876     z969       Naftisol  Male             9            30           30   \n",
       "1877     z969       Naftisol  Male             9            30           35   \n",
       "1878     z969       Naftisol  Male             9            30           40   \n",
       "1879     z969       Naftisol  Male             9            30           45   \n",
       "\n",
       "      Tumor Volume (mm3)_x  Metastatic Sites_x  Duplicate_x Drug Regimen_y  \\\n",
       "0                45.000000                   0        False       Ramicane   \n",
       "1                38.825898                   0        False       Ramicane   \n",
       "2                35.014271                   1        False       Ramicane   \n",
       "3                34.223992                   1        False       Ramicane   \n",
       "4                32.997729                   1        False       Ramicane   \n",
       "...                    ...                 ...          ...            ...   \n",
       "1875             63.145652                   2        False       Naftisol   \n",
       "1876             65.841013                   3        False       Naftisol   \n",
       "1877             69.176246                   4        False       Naftisol   \n",
       "1878             70.314904                   4        False       Naftisol   \n",
       "1879             73.867845                   4        False       Naftisol   \n",
       "\n",
       "     Sex_y  Age_months_y  Weight (g)_y  Timepoint_y  Tumor Volume (mm3)_y  \\\n",
       "0     Male            21            16           45             45.000000   \n",
       "1     Male            21            16           45             45.000000   \n",
       "2     Male            21            16           45             45.000000   \n",
       "3     Male            21            16           45             45.000000   \n",
       "4     Male            21            16           45             45.000000   \n",
       "...    ...           ...           ...          ...                   ...   \n",
       "1875  Male             9            30           45             73.867845   \n",
       "1876  Male             9            30           45             73.867845   \n",
       "1877  Male             9            30           45             73.867845   \n",
       "1878  Male             9            30           45             73.867845   \n",
       "1879  Male             9            30           45             73.867845   \n",
       "\n",
       "      Metastatic Sites_y  Duplicate_y  \n",
       "0                      1        False  \n",
       "1                      1        False  \n",
       "2                      1        False  \n",
       "3                      1        False  \n",
       "4                      1        False  \n",
       "...                  ...          ...  \n",
       "1875                   4        False  \n",
       "1876                   4        False  \n",
       "1877                   4        False  \n",
       "1878                   4        False  \n",
       "1879                   4        False  \n",
       "\n",
       "[1880 rows x 17 columns]"
      ]
     },
     "execution_count": 63,
     "metadata": {},
     "output_type": "execute_result"
    }
   ],
   "source": [
    "#copies in case merge messes something up\n",
    "copy_mouse_df= mouse_study_nodupes_df.copy()\n",
    "copy_max_timepoint= max_timepoint.copy()\n",
    "\n",
    "# Merge this group df with the original dataframe to get the tumor volume at the last timepoint\n",
    "last_timepoint_again = pd.merge(mouse_study_nodupes_df, max_timepoint, on=\"Mouse ID\")\n",
    "last_timepoint_again"
   ]
  },
  {
   "cell_type": "code",
   "execution_count": 104,
   "metadata": {},
   "outputs": [],
   "source": [
    "# Put treatments into a list for for loop (and later for plot labels)\n",
    "drug_regimen_list = ['Capomulin', 'Ramicane', 'Infubinol', 'Ceftamin']\n",
    "\n",
    "# Create empty lists to fill with tumor vol data for plotting\n",
    "capo_tumor = []\n",
    "rami_tumor = []\n",
    "infu_tumor = []\n",
    "ceft_tumor = []\n",
    "unique_mouse_list = []\n",
    "\n",
    "#loop through for tumor data at ending timepoint\n",
    "#https://pandas.pydata.org/docs/reference/api/pandas.DataFrame.itertuples.html\n",
    "for row in last_timepoint_again.itertuples():\n",
    "    if row[6] == row[14] and row[1] not in unique_mouse_list:\n",
    "        if row[2] == drug_regimen_list[0]:\n",
    "            capo_tumor.append(row[7])\n",
    "            unique_mouse_list.append(row[1])\n",
    "        elif row[2] == drug_regimen_list[1]:\n",
    "            rami_tumor.append(row[7])\n",
    "            unique_mouse_list.append(row[1])\n",
    "        elif row[2] == drug_regimen_list[2]:\n",
    "            infu_tumor.append(row[7])\n",
    "            unique_mouse_list.append(row[1])\n",
    "        elif row[2] == drug_regimen_list[3]:\n",
    "            ceft_tumor.append(row[7])\n",
    "            unique_mouse_list.append(row[1])\n",
    "#100 mice"
   ]
  },
  {
   "cell_type": "code",
   "execution_count": 153,
   "metadata": {},
   "outputs": [],
   "source": [
    "#turn lists into series for .quantile to work\n",
    "ind = np.arange(0, 25, 1)\n",
    "\n",
    "capo_series = pd.Series(capo_tumor, index=ind)\n",
    "rami_series = pd.Series(rami_tumor, index=ind)\n",
    "infu_series = pd.Series(infu_tumor, index=ind)\n",
    "ceft_series = pd.Series(ceft_tumor, index=ind)"
   ]
  },
  {
   "cell_type": "code",
   "execution_count": 175,
   "metadata": {},
   "outputs": [
    {
     "name": "stdout",
     "output_type": "stream",
     "text": [
      "Values below 20.705 and above 51.832 could be outliers for the Capomulin drug regimen.\n",
      "There are 0 outliers in the dataset.\n"
     ]
    }
   ],
   "source": [
    "# Calculate the IQR and quantitatively determine if there are any potential outliers. \n",
    "# Determine outliers using upper and lower bounds\n",
    "\n",
    "#for Capomulin\n",
    "quartiles_capo = capo_series.quantile([.25,.5,.75])\n",
    "lowerq_capo = quartiles_capo[.25]\n",
    "upperq_capo = quartiles_capo[.75]\n",
    "iqr_capo = upperq_capo-lowerq_capo\n",
    "lower_bound_capo = lowerq_capo - (1.5*iqr_capo)\n",
    "upper_bound_capo = upperq_capo + (1.5*iqr_capo)\n",
    "\n",
    "capo_outliers = []\n",
    "for x in capo_series:\n",
    "    if x < lower_bound_capo or x > upper_bound_capo:\n",
    "        capo_outliers.append([x])\n",
    "print(f\"Values below {round(lower_bound_capo, 3)} and above {round(upper_bound_capo, 3)} could be outliers for the Capomulin drug regimen.\")\n",
    "print(f\"There are {len(capo_outliers)} outliers in the dataset.\")"
   ]
  },
  {
   "cell_type": "code",
   "execution_count": 174,
   "metadata": {},
   "outputs": [
    {
     "name": "stdout",
     "output_type": "stream",
     "text": [
      "Values below 17.913 and above 54.307 could be outliers for the Ramicane drug regimen.\n",
      "There are 0 outliers in the dataset.\n"
     ]
    }
   ],
   "source": [
    "#for Ramicane\n",
    "quartiles_rami = rami_series.quantile([.25,.5,.75])\n",
    "lowerq_rami = quartiles_rami[0.25]\n",
    "upperq_rami = quartiles_rami[.75]\n",
    "iqr_rami = upperq_rami-lowerq_rami\n",
    "lower_bound_rami = lowerq_rami - (1.5*iqr_rami)\n",
    "upper_bound_rami = upperq_rami + (1.5*iqr_rami)\n",
    "\n",
    "\n",
    "rami_outliers = []\n",
    "for x in rami_series:\n",
    "    if x < lower_bound_rami or x > upper_bound_rami:\n",
    "        rami_outliers.append([x])\n",
    "\n",
    "print(f\"Values below {round(lower_bound_rami, 3)} and above {round(upper_bound_rami, 3)} could be outliers for the Ramicane drug regimen.\")\n",
    "print(f\"There are {len(rami_outliers)} outliers in the dataset.\")"
   ]
  },
  {
   "cell_type": "code",
   "execution_count": 206,
   "metadata": {},
   "outputs": [
    {
     "name": "stdout",
     "output_type": "stream",
     "text": [
      "36.56165229 38.1251644\n"
     ]
    }
   ],
   "source": [
    "print(quartiles_rami[0.5], quartiles_capo[0.5])"
   ]
  },
  {
   "cell_type": "code",
   "execution_count": 176,
   "metadata": {},
   "outputs": [
    {
     "name": "stdout",
     "output_type": "stream",
     "text": [
      "Values below 36.833 and above 82.741 could be outliers for the Infubinol drug regimen.\n",
      "There is 1 outlier in the dataset. It is: [[36.3213458]].\n"
     ]
    }
   ],
   "source": [
    "#for Infubinol\n",
    "quartiles_infu = infu_series.quantile([.25,.5,.75])\n",
    "lowerq_infu = quartiles_infu[0.25]\n",
    "upperq_infu = quartiles_infu[.75]\n",
    "iqr_infu = upperq_infu-lowerq_infu\n",
    "lower_bound_infu = lowerq_infu - (1.5*iqr_infu)\n",
    "upper_bound_infu = upperq_infu + (1.5*iqr_infu)\n",
    "\n",
    "infu_outliers = []\n",
    "for x in infu_series:\n",
    "    if x < lower_bound_infu or x > upper_bound_infu:\n",
    "        infu_outliers.append([x])\n",
    "\n",
    "print(f\"Values below {round(lower_bound_infu, 3)} and above {round(upper_bound_infu, 3)} could be outliers for the Infubinol drug regimen.\")\n",
    "print(f\"There is {len(infu_outliers)} outlier in the dataset. It is: {infu_outliers}.\")"
   ]
  },
  {
   "cell_type": "code",
   "execution_count": 178,
   "metadata": {},
   "outputs": [
    {
     "name": "stdout",
     "output_type": "stream",
     "text": [
      "Values below 25.355 and above 87.666 could be outliers for the Ceftamin drug regimen.\n",
      "There are 0 outliers in the dataset.\n"
     ]
    }
   ],
   "source": [
    "#for Ceftamin\n",
    "quartiles_ceft = ceft_series.quantile([.25,.5,.75])\n",
    "lowerq_ceft = quartiles_ceft[0.25]\n",
    "upperq_ceft = quartiles_ceft[.75]\n",
    "iqr_ceft = upperq_ceft-lowerq_ceft\n",
    "lower_bound_ceft = lowerq_ceft - (1.5*iqr_ceft)\n",
    "upper_bound_ceft = upperq_ceft + (1.5*iqr_ceft)\n",
    "\n",
    "ceft_outliers = []\n",
    "for x in ceft_series:\n",
    "    if x < lower_bound_ceft or x > upper_bound_ceft:\n",
    "        ceft_outliers.append([x])\n",
    "\n",
    "print(f\"Values below {round(lower_bound_ceft, 3)} and above {round(upper_bound_ceft, 3)} could be outliers for the Ceftamin drug regimen.\")\n",
    "print(f\"There are {len(ceft_outliers)} outliers in the dataset.\")"
   ]
  },
  {
   "cell_type": "code",
   "execution_count": 207,
   "metadata": {},
   "outputs": [
    {
     "name": "stdout",
     "output_type": "stream",
     "text": [
      "60.16518046 59.85195552\n"
     ]
    }
   ],
   "source": [
    "print(quartiles_infu[0.5], quartiles_ceft[0.5])"
   ]
  },
  {
   "cell_type": "code",
   "execution_count": 189,
   "metadata": {},
   "outputs": [
    {
     "data": {
      "image/png": "[encoded data removed]",
      "text/plain": [
       "<Figure size 864x432 with 4 Axes>"
      ]
     },
     "metadata": {
      "needs_background": "light"
     },
     "output_type": "display_data"
    }
   ],
   "source": [
    "# Generate a box plot of the final tumor volume of each mouse across four regimens of interest\n",
    "fig, (ax1, ax2, ax3, ax4) = plt.subplots(1, 4, sharey=True, figsize=(12, 6))\n",
    "\n",
    "ax1.set_ylabel('Tumor Volume (mm3)')  \n",
    "\n",
    "ax1.set_title('Capomulin')\n",
    "ax1.boxplot(capo_series)\n",
    "\n",
    "ax2.set_title('Ramicane')\n",
    "ax2.boxplot(rami_series)\n",
    "\n",
    "ax3.set_title('Infubinol')\n",
    "ax3.boxplot(infu_series)\n",
    "\n",
    "ax4.set_title('Ceftamin')\n",
    "ax4.boxplot(ceft_series)\n",
    "\n",
    "\n",
    "plt.suptitle(\"Tumor volume after reatment across 4 drug regimens\")\n",
    "plt.show()"
   ]
  },
  {
   "cell_type": "code",
   "execution_count": 221,
   "metadata": {},
   "outputs": [
    {
     "data": {
      "text/html": [
       "<div>\n",
       "<style scoped>\n",
       "    .dataframe tbody tr th:only-of-type {\n",
       "        vertical-align: middle;\n",
       "    }\n",
       "\n",
       "    .dataframe tbody tr th {\n",
       "        vertical-align: top;\n",
       "    }\n",
       "\n",
       "    .dataframe thead th {\n",
       "        text-align: right;\n",
       "    }\n",
       "</style>\n",
       "<table border=\"1\" class=\"dataframe\">\n",
       "  <thead>\n",
       "    <tr style=\"text-align: right;\">\n",
       "      <th></th>\n",
       "      <th>Mouse ID</th>\n",
       "      <th>Drug Regimen_x</th>\n",
       "      <th>Sex_x</th>\n",
       "      <th>Age_months_x</th>\n",
       "      <th>Weight (g)_x</th>\n",
       "      <th>Timepoint_x</th>\n",
       "      <th>Tumor Volume (mm3)_x</th>\n",
       "      <th>Metastatic Sites_x</th>\n",
       "      <th>Duplicate_x</th>\n",
       "      <th>Drug Regimen_y</th>\n",
       "      <th>Sex_y</th>\n",
       "      <th>Age_months_y</th>\n",
       "      <th>Weight (g)_y</th>\n",
       "      <th>Timepoint_y</th>\n",
       "      <th>Tumor Volume (mm3)_y</th>\n",
       "      <th>Metastatic Sites_y</th>\n",
       "      <th>Duplicate_y</th>\n",
       "    </tr>\n",
       "  </thead>\n",
       "  <tbody>\n",
       "    <tr>\n",
       "      <th>669</th>\n",
       "      <td>c326</td>\n",
       "      <td>Infubinol</td>\n",
       "      <td>Female</td>\n",
       "      <td>18</td>\n",
       "      <td>25</td>\n",
       "      <td>5</td>\n",
       "      <td>36.321346</td>\n",
       "      <td>0</td>\n",
       "      <td>False</td>\n",
       "      <td>Infubinol</td>\n",
       "      <td>Female</td>\n",
       "      <td>18</td>\n",
       "      <td>25</td>\n",
       "      <td>5</td>\n",
       "      <td>45.0</td>\n",
       "      <td>0</td>\n",
       "      <td>False</td>\n",
       "    </tr>\n",
       "  </tbody>\n",
       "</table>\n",
       "</div>"
      ],
      "text/plain": [
       "    Mouse ID Drug Regimen_x   Sex_x  Age_months_x  Weight (g)_x  Timepoint_x  \\\n",
       "669     c326      Infubinol  Female            18            25            5   \n",
       "\n",
       "     Tumor Volume (mm3)_x  Metastatic Sites_x  Duplicate_x Drug Regimen_y  \\\n",
       "669             36.321346                   0        False      Infubinol   \n",
       "\n",
       "      Sex_y  Age_months_y  Weight (g)_y  Timepoint_y  Tumor Volume (mm3)_y  \\\n",
       "669  Female            18            25            5                  45.0   \n",
       "\n",
       "     Metastatic Sites_y  Duplicate_y  \n",
       "669                   0        False  "
      ]
     },
     "execution_count": 221,
     "metadata": {},
     "output_type": "execute_result"
    }
   ],
   "source": [
    "#outlier from Infubinol dataset\n",
    "infu_outlier_mouse = last_timepoint_again.loc[last_timepoint_again[\"Tumor Volume (mm3)_x\"] == 36.3213458, :]\n",
    "infu_outlier_mouse "
   ]
  },
  {
   "cell_type": "code",
   "execution_count": 210,
   "metadata": {},
   "outputs": [
    {
     "data": {
      "text/html": [
       "<div>\n",
       "<style scoped>\n",
       "    .dataframe tbody tr th:only-of-type {\n",
       "        vertical-align: middle;\n",
       "    }\n",
       "\n",
       "    .dataframe tbody tr th {\n",
       "        vertical-align: top;\n",
       "    }\n",
       "\n",
       "    .dataframe thead th {\n",
       "        text-align: right;\n",
       "    }\n",
       "</style>\n",
       "<table border=\"1\" class=\"dataframe\">\n",
       "  <thead>\n",
       "    <tr style=\"text-align: right;\">\n",
       "      <th></th>\n",
       "      <th>Mouse ID</th>\n",
       "      <th>Drug Regimen</th>\n",
       "      <th>Sex</th>\n",
       "      <th>Age_months</th>\n",
       "      <th>Weight (g)</th>\n",
       "      <th>Timepoint</th>\n",
       "      <th>Tumor Volume (mm3)</th>\n",
       "      <th>Metastatic Sites</th>\n",
       "      <th>Duplicate</th>\n",
       "    </tr>\n",
       "  </thead>\n",
       "  <tbody>\n",
       "    <tr>\n",
       "      <th>668</th>\n",
       "      <td>c326</td>\n",
       "      <td>Infubinol</td>\n",
       "      <td>Female</td>\n",
       "      <td>18</td>\n",
       "      <td>25</td>\n",
       "      <td>0</td>\n",
       "      <td>45.000000</td>\n",
       "      <td>0</td>\n",
       "      <td>False</td>\n",
       "    </tr>\n",
       "    <tr>\n",
       "      <th>669</th>\n",
       "      <td>c326</td>\n",
       "      <td>Infubinol</td>\n",
       "      <td>Female</td>\n",
       "      <td>18</td>\n",
       "      <td>25</td>\n",
       "      <td>5</td>\n",
       "      <td>36.321346</td>\n",
       "      <td>0</td>\n",
       "      <td>False</td>\n",
       "    </tr>\n",
       "  </tbody>\n",
       "</table>\n",
       "</div>"
      ],
      "text/plain": [
       "    Mouse ID Drug Regimen     Sex  Age_months  Weight (g)  Timepoint  \\\n",
       "668     c326    Infubinol  Female          18          25          0   \n",
       "669     c326    Infubinol  Female          18          25          5   \n",
       "\n",
       "     Tumor Volume (mm3)  Metastatic Sites  Duplicate  \n",
       "668           45.000000                 0      False  \n",
       "669           36.321346                 0      False  "
      ]
     },
     "execution_count": 210,
     "metadata": {},
     "output_type": "execute_result"
    }
   ],
   "source": [
    "mouse_study_nodupes_df.loc[mouse_study_nodupes_df[\"Mouse ID\"] == \"c326\", :]"
   ]
  },
  {
   "cell_type": "markdown",
   "metadata": {},
   "source": [
    "## Line and Scatter Plots"
   ]
  },
  {
   "cell_type": "code",
   "execution_count": 19,
   "metadata": {},
   "outputs": [],
   "source": [
    "# Generate a line plot of tumor volume vs. time point for a mouse treated with CapomulinS"
   ]
  },
  {
   "cell_type": "code",
   "execution_count": null,
   "metadata": {},
   "outputs": [],
   "source": [
    "#save one Mouse ID for a capomulin-treated mouse\n",
    "mouse_id_by_drug=regimen_summary_group[\"Mouse ID\"].unique()\n",
    "capo_mouse = mouse_id_by_drug[\"Capomulin\"][0]"
   ]
  },
  {
   "cell_type": "code",
   "execution_count": 20,
   "metadata": {},
   "outputs": [],
   "source": [
    "#select data for one capo mouse from larger frame\n",
    "capo_mouse_data = mouse_study_nodupes_df.loc[mouse_study_nodupes_df[\"Mouse ID\"] == capo_mouse, [\"Timepoint\",\"Tumor Volume (mm3)\"]]\n",
    "\n",
    "#save columns as variables for plotting\n",
    "x_data = capo_mouse_data[\"Timepoint\"]\n",
    "y_data = capo_mouse_data[\"Tumor Volume (mm3)\"]"
   ]
  },
  {
   "cell_type": "code",
   "execution_count": 33,
   "metadata": {},
   "outputs": [
    {
     "data": {
      "text/plain": [
       "(0.0, 47.0)"
      ]
     },
     "execution_count": 33,
     "metadata": {},
     "output_type": "execute_result"
    },
    {
     "data": {
      "image/png": "[encoded data removed]",
      "text/plain": [
       "<Figure size 432x288 with 1 Axes>"
      ]
     },
     "metadata": {
      "needs_background": "light"
     },
     "output_type": "display_data"
    }
   ],
   "source": [
    "#plot single mouse data\n",
    "plt.plot(x_data, y_data, marker=\"o\")\n",
    "plt.title(f\"Tumor Size over Time for Mouse {capo_mouse}, Treated with Capomulin\")\n",
    "plt.xlabel(\"Timepoints\")\n",
    "plt.ylabel(\"Tumor Volume (mm3)\")\n",
    "plt.xlim(-1, max(x_data) + 1)\n",
    "plt.ylim(0, max(y_data) + 2)"
   ]
  },
  {
   "cell_type": "code",
   "execution_count": null,
   "metadata": {},
   "outputs": [],
   "source": [
    "# Generate a scatter plot of average tumor volume vs. mouse weight for the Capomulin regimen"
   ]
  },
  {
   "cell_type": "code",
   "execution_count": 52,
   "metadata": {},
   "outputs": [
    {
     "data": {
      "text/plain": [
       "(12.0, 27.0)"
      ]
     },
     "execution_count": 52,
     "metadata": {},
     "output_type": "execute_result"
    },
    {
     "data": {
      "image/png": "[encoded data removed]",
      "text/plain": [
       "<Figure size 432x288 with 1 Axes>"
      ]
     },
     "metadata": {
      "needs_background": "light"
     },
     "output_type": "display_data"
    }
   ],
   "source": [
    "#get all mouse data for Capomulin\n",
    "all_capo_mice = mouse_study_nodupes_df.loc[mouse_study_nodupes_df[\"Drug Regimen\"] == \"Capomulin\", :]\n",
    "\n",
    "#group by mouse ID, avergae Tumor Vol per mouse and copy weight\n",
    "capo_weight_vol = all_capo_mice.groupby([\"Mouse ID\"]).agg({\"Tumor Volume (mm3)\": \"mean\", \"Weight (g)\": \"first\"})\n",
    "\n",
    "#save columns for plotting\n",
    "x_axis_data = capo_weight_vol[\"Tumor Volume (mm3)\"]\n",
    "y_axis_data = capo_weight_vol[\"Weight (g)\"]\n",
    "\n",
    "#plot data\n",
    "plt.scatter(x_axis_data, y_axis_data)\n",
    "plt.title(f\"Average Tumor Size vs. Mouse Weight for Mice Treated with Capomulin\")\n",
    "plt.xlabel(\"Tumor Volume (mm3)\")\n",
    "plt.ylabel(\"Weight (g)\")\n",
    "plt.xlim(min(x_axis_data) - 1, max(x_axis_data) + 1)\n",
    "plt.ylim(12, max(y_axis_data) + 2)"
   ]
  },
  {
   "cell_type": "markdown",
   "metadata": {},
   "source": [
    "## Correlation and Regression"
   ]
  },
  {
   "cell_type": "code",
   "execution_count": 55,
   "metadata": {},
   "outputs": [
    {
     "name": "stdout",
     "output_type": "stream",
     "text": [
      "The r-squared is: 0.7088568047708723\n",
      "The equation for the line of best fit is y = 0.74x + -10.15\n"
     ]
    }
   ],
   "source": [
    "# Calculate the correlation coefficient and linear regression model \n",
    "# for mouse weight and average tumor volume for the Capomulin regimen\n",
    "(slope, intercept, rvalue, pvalue, stderr) = linregress(x_axis_data, y_axis_data)\n",
    "regress_values = x_axis_data * slope + intercept\n",
    "line_eq = \"y = \" + str(round(slope,2)) + \"x + \" + str(round(intercept,2))\n",
    "\n",
    "print(f\"The r-squared is: {rvalue**2}\")\n",
    "print(f\"The equation for the line of best fit is {line_eq}\")"
   ]
  },
  {
   "cell_type": "code",
   "execution_count": 58,
   "metadata": {},
   "outputs": [
    {
     "data": {
      "text/plain": [
       "Text(38, 14, 'y = 0.74x + -10.15')"
      ]
     },
     "execution_count": 58,
     "metadata": {},
     "output_type": "execute_result"
    },
    {
     "data": {
      "image/png": "[encoded data removed]",
      "text/plain": [
       "<Figure size 432x288 with 1 Axes>"
      ]
     },
     "metadata": {
      "needs_background": "light"
     },
     "output_type": "display_data"
    }
   ],
   "source": [
    "#plot grpah again, with line of best fit\n",
    "plt.scatter(x_axis_data, y_axis_data)\n",
    "plt.title(f\"Average Tumor Size vs. Mouse Weight for Mice Treated with Capomulin\")\n",
    "plt.xlabel(\"Tumor Volume (mm3)\")\n",
    "plt.ylabel(\"Weight (g)\")\n",
    "plt.xlim(min(x_axis_data) - 1, max(x_axis_data) + 1)\n",
    "plt.ylim(12, max(y_axis_data) + 2)\n",
    "\n",
    "plt.plot(x_axis_data,regress_values,\"r-\")\n",
    "plt.annotate(line_eq,(38,14),fontsize=15,color=\"red\")"
   ]
  }
 ],
 "metadata": {
  "anaconda-cloud": {},
  "kernelspec": {
   "display_name": "Python [conda env:PythonData] *",
   "language": "python",
   "name": "conda-env-PythonData-py"
  },
  "language_info": {
   "codemirror_mode": {
    "name": "ipython",
    "version": 3
   },
   "file_extension": ".py",
   "mimetype": "text/x-python",
   "name": "python",
   "nbconvert_exporter": "python",
   "pygments_lexer": "ipython3",
   "version": "3.8.11"
  }
 },
 "nbformat": 4,
 "nbformat_minor": 4
}
